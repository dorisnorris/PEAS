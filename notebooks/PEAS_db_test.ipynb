{
 "cells": [
  {
   "cell_type": "code",
   "execution_count": 1,
   "id": "f792fe37",
   "metadata": {},
   "outputs": [],
   "source": [
    "import numpy as np\n",
    "import pandas as pd"
   ]
  },
  {
   "cell_type": "code",
   "execution_count": 3,
   "id": "be5a6c40",
   "metadata": {},
   "outputs": [],
   "source": [
    "import sys\n",
    "sys.path.append('../PEAS/app/')\n",
    "sys.path.append('../PEAS/db_build/')\n",
    "import db_factory\n",
    "import data"
   ]
  },
  {
   "cell_type": "code",
   "execution_count": null,
   "id": "d998b7f7",
   "metadata": {},
   "outputs": [],
   "source": [
    "mars_spectrum = pd.read_csv('../PEAS/app/data/mars_spectrum.dat', delim_whitespace=True, header=None, names=['wavelength','flux'])"
   ]
  },
  {
   "cell_type": "code",
   "execution_count": null,
   "id": "1fc092ae",
   "metadata": {},
   "outputs": [],
   "source": [
    "mars_spectrum"
   ]
  },
  {
   "cell_type": "code",
   "execution_count": null,
   "id": "c5caf839",
   "metadata": {},
   "outputs": [],
   "source": [
    "jupiter_spectrum = pd.read_csv('../PEAS/app/data/Albedos/Jupiter.txt', delim_whitespace=True, header=None, names=['wavelength','flux'])\n",
    "jupiter_spectrum"
   ]
  },
  {
   "cell_type": "code",
   "execution_count": null,
   "id": "1c1d9f6e",
   "metadata": {},
   "outputs": [],
   "source": [
    "venus_spectrum = pd.read_csv('../PEAS/app/data/Albedos/Venus.txt', delim_whitespace=True, header=None, names=['wavelength','flux'])\n",
    "venus_spectrum"
   ]
  },
  {
   "cell_type": "code",
   "execution_count": null,
   "id": "0514eddf",
   "metadata": {},
   "outputs": [],
   "source": [
    "saturn_spectrum = pd.read_csv('../PEAS/app/data/Albedos/Saturn.txt', delim_whitespace=True, header=None, names=['wavelength','flux'])\n",
    "saturn_spectrum"
   ]
  },
  {
   "cell_type": "code",
   "execution_count": 4,
   "id": "2c020ac2",
   "metadata": {},
   "outputs": [
    {
     "data": {
      "text/html": [
       "<div>\n",
       "<style scoped>\n",
       "    .dataframe tbody tr th:only-of-type {\n",
       "        vertical-align: middle;\n",
       "    }\n",
       "\n",
       "    .dataframe tbody tr th {\n",
       "        vertical-align: top;\n",
       "    }\n",
       "\n",
       "    .dataframe thead th {\n",
       "        text-align: right;\n",
       "    }\n",
       "</style>\n",
       "<table border=\"1\" class=\"dataframe\">\n",
       "  <thead>\n",
       "    <tr style=\"text-align: right;\">\n",
       "      <th></th>\n",
       "      <th>wavelength</th>\n",
       "      <th>flux</th>\n",
       "    </tr>\n",
       "  </thead>\n",
       "  <tbody>\n",
       "    <tr>\n",
       "      <th>0</th>\n",
       "      <td>0.450000</td>\n",
       "      <td>0.269574</td>\n",
       "    </tr>\n",
       "    <tr>\n",
       "      <th>1</th>\n",
       "      <td>0.451153</td>\n",
       "      <td>0.262689</td>\n",
       "    </tr>\n",
       "    <tr>\n",
       "      <th>2</th>\n",
       "      <td>0.452307</td>\n",
       "      <td>0.269469</td>\n",
       "    </tr>\n",
       "    <tr>\n",
       "      <th>3</th>\n",
       "      <td>0.453460</td>\n",
       "      <td>0.273946</td>\n",
       "    </tr>\n",
       "    <tr>\n",
       "      <th>4</th>\n",
       "      <td>0.454613</td>\n",
       "      <td>0.275201</td>\n",
       "    </tr>\n",
       "    <tr>\n",
       "      <th>...</th>\n",
       "      <td>...</td>\n",
       "      <td>...</td>\n",
       "    </tr>\n",
       "    <tr>\n",
       "      <th>1747</th>\n",
       "      <td>2.492473</td>\n",
       "      <td>-3.557794</td>\n",
       "    </tr>\n",
       "    <tr>\n",
       "      <th>1748</th>\n",
       "      <td>2.493626</td>\n",
       "      <td>-1.288751</td>\n",
       "    </tr>\n",
       "    <tr>\n",
       "      <th>1749</th>\n",
       "      <td>2.494780</td>\n",
       "      <td>-0.570809</td>\n",
       "    </tr>\n",
       "    <tr>\n",
       "      <th>1750</th>\n",
       "      <td>2.495933</td>\n",
       "      <td>-0.341534</td>\n",
       "    </tr>\n",
       "    <tr>\n",
       "      <th>1751</th>\n",
       "      <td>2.497086</td>\n",
       "      <td>-0.259273</td>\n",
       "    </tr>\n",
       "  </tbody>\n",
       "</table>\n",
       "<p>1752 rows × 2 columns</p>\n",
       "</div>"
      ],
      "text/plain": [
       "      wavelength      flux\n",
       "0       0.450000  0.269574\n",
       "1       0.451153  0.262689\n",
       "2       0.452307  0.269469\n",
       "3       0.453460  0.273946\n",
       "4       0.454613  0.275201\n",
       "...          ...       ...\n",
       "1747    2.492473 -3.557794\n",
       "1748    2.493626 -1.288751\n",
       "1749    2.494780 -0.570809\n",
       "1750    2.495933 -0.341534\n",
       "1751    2.497086 -0.259273\n",
       "\n",
       "[1752 rows x 2 columns]"
      ]
     },
     "execution_count": 4,
     "metadata": {},
     "output_type": "execute_result"
    }
   ],
   "source": [
    "earth_spectrum = pd.read_csv('../PEAS/app/data/Albedos/Earth.txt', delim_whitespace=True, header=None, names=['wavelength','flux'])\n",
    "earth_spectrum"
   ]
  },
  {
   "cell_type": "code",
   "execution_count": 7,
   "id": "a918861b",
   "metadata": {},
   "outputs": [],
   "source": [
    "# #data 1\n",
    "# meta1 = {\n",
    "#     'UT_date':'2021-08-10',\n",
    "#     'time_of_obs':'10:05:35',\n",
    "#     'object_name':'Mars',\n",
    "#     'integration_time':3.89,\n",
    "#     'grating':1,\n",
    "#     'central_wavelength':640.2,\n",
    "#     'slit_width':300,\n",
    "#     'phase_angle':45.3,\n",
    "#     'comments':'This is a test'\n",
    "# }\n",
    "# wave1 =  mars_spectrum['wavelength'].values\n",
    "# flux1 = mars_spectrum['flux'].values\n",
    "\n",
    "# #data 2\n",
    "# meta2 = {\n",
    "#     'UT_date':'2021-08-12',\n",
    "#     'time_of_obs':'11:45:22',\n",
    "#     'object_name':'Jupiter',\n",
    "#     'integration_time':3.11,\n",
    "#     'grating':2,\n",
    "#     'central_wavelength':400.8,\n",
    "#     'slit_width':250,\n",
    "#     'phase_angle':22.7,\n",
    "#     'comments':'This is test 2'\n",
    "# }\n",
    "# wave2 = jupiter_spectrum['wavelength'].values\n",
    "# flux2 = jupiter_spectrum['flux'].values\n",
    "\n",
    "# #data 3\n",
    "# meta3 = {\n",
    "#     'UT_date':'2021-08-14',\n",
    "#     'time_of_obs':'10:05:35',\n",
    "#     'object_name':'Venus',\n",
    "#     'integration_time':6.59,\n",
    "#     'grating':3,\n",
    "#     'central_wavelength':587.4,\n",
    "#     'slit_width':200,\n",
    "#     'phase_angle':52.1,\n",
    "#     'comments':'This is test 3'\n",
    "# }\n",
    "# wave3 =  venus_spectrum['wavelength'].values\n",
    "# flux3 = venus_spectrum['flux'].values\n",
    "\n",
    "# #data 4\n",
    "# meta4 = {\n",
    "#     'UT_date':'2021-08-16',\n",
    "#     'time_of_obs':'11:45:22',\n",
    "#     'object_name':'Saturn',\n",
    "#     'integration_time':5.23,\n",
    "#     'grating':4,\n",
    "#     'central_wavelength':265.9,\n",
    "#     'slit_width':500,\n",
    "#     'phase_angle':25.9,\n",
    "#     'comments':'This is test 4'\n",
    "# }\n",
    "# wave4 = saturn_spectrum['wavelength'].values\n",
    "# flux4 = saturn_spectrum['flux'].values\n",
    "\n",
    "#data 5\n",
    "meta5 = {\n",
    "    'UT_date':'2021-09-03',\n",
    "    'time_of_obs':'09:42:10',\n",
    "    'object_name':'Earth',\n",
    "    'integration_time':7.82,\n",
    "    'grating':1,\n",
    "    'central_wavelength':324.7,\n",
    "    'slit_width':450,\n",
    "    'phase_angle':34.2,\n",
    "    'comments':'This is test 5'\n",
    "}\n",
    "wave5 = earth_spectrum['wavelength'].values\n",
    "flux5 = earth_spectrum['flux'].values\n",
    "\n",
    "\n",
    "\n"
   ]
  },
  {
   "cell_type": "code",
   "execution_count": 8,
   "id": "77552bab",
   "metadata": {},
   "outputs": [
    {
     "data": {
      "text/plain": [
       "'2021-09-03'"
      ]
     },
     "execution_count": 8,
     "metadata": {},
     "output_type": "execute_result"
    }
   ],
   "source": [
    "meta5['UT_date']"
   ]
  },
  {
   "cell_type": "code",
   "execution_count": 11,
   "id": "2bf24a08",
   "metadata": {},
   "outputs": [],
   "source": [
    "PEAS_db = db_factory.create_PEAS_db('PEAS.db')\n",
    "\n",
    "# PEAS_db.create_db()"
   ]
  },
  {
   "cell_type": "code",
   "execution_count": null,
   "id": "b5f096d6",
   "metadata": {},
   "outputs": [],
   "source": [
    "# PEAS_db = db_factory.create_PEAS_db('PEAS.db')\n",
    "PEAS_db.PEAS_insert(meta1, wave1, flux1)"
   ]
  },
  {
   "cell_type": "code",
   "execution_count": null,
   "id": "f6e21abe",
   "metadata": {},
   "outputs": [],
   "source": [
    "data.PEAS_db.get_data(PEAS_db,'Mars')"
   ]
  },
  {
   "cell_type": "code",
   "execution_count": null,
   "id": "651fd483",
   "metadata": {},
   "outputs": [],
   "source": [
    "PEAS_db.PEAS_insert(meta2, wave2, flux2)"
   ]
  },
  {
   "cell_type": "code",
   "execution_count": null,
   "id": "84cc37cd",
   "metadata": {},
   "outputs": [],
   "source": [
    "PEAS_db.PEAS_insert(meta3, wave3, flux3)"
   ]
  },
  {
   "cell_type": "code",
   "execution_count": 12,
   "id": "109be2f0",
   "metadata": {},
   "outputs": [
    {
     "name": "stdout",
     "output_type": "stream",
     "text": [
      "2021-09-03\n"
     ]
    }
   ],
   "source": [
    "PEAS_db.PEAS_insert(meta5, wave5, flux5)"
   ]
  },
  {
   "cell_type": "code",
   "execution_count": null,
   "id": "c6b7293d",
   "metadata": {},
   "outputs": [],
   "source": [
    "data.PEAS_db.get_data(PEAS_db,'Jupiter')"
   ]
  },
  {
   "cell_type": "code",
   "execution_count": 13,
   "id": "85c4d112",
   "metadata": {},
   "outputs": [
    {
     "data": {
      "text/plain": [
       "[(1,\n",
       "  '2021-08-10',\n",
       "  '10:05:35',\n",
       "  'Mars',\n",
       "  3.89,\n",
       "  1,\n",
       "  640.2,\n",
       "  300,\n",
       "  45.3,\n",
       "  'This is a test'),\n",
       " (2,\n",
       "  '2021-08-12',\n",
       "  '11:45:22',\n",
       "  'Jupiter',\n",
       "  3.11,\n",
       "  2,\n",
       "  400.8,\n",
       "  250,\n",
       "  22.7,\n",
       "  'This is test 2'),\n",
       " (3,\n",
       "  '2021-08-14',\n",
       "  '10:05:35',\n",
       "  'Venus',\n",
       "  6.59,\n",
       "  3,\n",
       "  587.4,\n",
       "  200,\n",
       "  52.1,\n",
       "  'This is test 3'),\n",
       " (4,\n",
       "  '2021-08-16',\n",
       "  '11:45:22',\n",
       "  'Saturn',\n",
       "  5.23,\n",
       "  4,\n",
       "  265.9,\n",
       "  500,\n",
       "  25.9,\n",
       "  'This is test 4'),\n",
       " (5,\n",
       "  '2021-09-03',\n",
       "  '09:42:10',\n",
       "  'Earth',\n",
       "  7.82,\n",
       "  1,\n",
       "  324.7,\n",
       "  450,\n",
       "  34.2,\n",
       "  'This is test 5')]"
      ]
     },
     "execution_count": 13,
     "metadata": {},
     "output_type": "execute_result"
    }
   ],
   "source": [
    "PEAS_db = data.PEAS_db('PEAS.db')\n",
    "meta_items = PEAS_db.get_meta_items()\n",
    "meta_items"
   ]
  },
  {
   "cell_type": "code",
   "execution_count": null,
   "id": "2eb70228",
   "metadata": {},
   "outputs": [],
   "source": [
    "all_planets = {\n",
    "                'Mercury' : 1,\n",
    "                'Venus' : 2,\n",
    "                'Earth' : 3,\n",
    "                'Mars' : 4,\n",
    "                'Jupiter': 5,\n",
    "                'Saturn' : 6,\n",
    "                'Uranus' : 7,\n",
    "                'Neptune' : 8}"
   ]
  },
  {
   "cell_type": "code",
   "execution_count": null,
   "id": "14b59bf1",
   "metadata": {},
   "outputs": [],
   "source": []
  }
 ],
 "metadata": {
  "kernelspec": {
   "display_name": "Python 3",
   "language": "python",
   "name": "python3"
  },
  "language_info": {
   "codemirror_mode": {
    "name": "ipython",
    "version": 3
   },
   "file_extension": ".py",
   "mimetype": "text/x-python",
   "name": "python",
   "nbconvert_exporter": "python",
   "pygments_lexer": "ipython3",
   "version": "3.9.6"
  }
 },
 "nbformat": 4,
 "nbformat_minor": 5
}
